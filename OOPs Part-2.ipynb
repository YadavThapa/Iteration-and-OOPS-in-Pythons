{
 "cells": [
  {
   "cell_type": "code",
   "execution_count": 8,
   "metadata": {},
   "outputs": [
    {
     "name": "stdout",
     "output_type": "stream",
     "text": [
      "100 DairyMilk\n"
     ]
    }
   ],
   "source": [
    "class Cadbury:# create parent Class\n",
    "# instance attribute\n",
    "    def __init__(self,name,price):\n",
    "        self.price = price\n",
    "        self.name = name\n",
    "\n",
    "    def display(self): # call parent class\n",
    "        print(self.price,self.name)\n",
    "\n",
    "obj1 = Cadbury(\"DairyMilk\",100) \n",
    "# obj1 is the object of the Cadbury class\n",
    "obj1.display();"
   ]
  },
  {
   "cell_type": "code",
   "execution_count": 9,
   "metadata": {},
   "outputs": [
    {
     "name": "stdout",
     "output_type": "stream",
     "text": [
      "10000\n",
      "John Doe\n"
     ]
    }
   ],
   "source": [
    "class Employee:\n",
    "    salary = 10000\n",
    "    name = \"John Doe\"\n",
    "emp1 = Employee()\n",
    "print(emp1.salary)\n",
    "print(emp1.name)"
   ]
  },
  {
   "cell_type": "code",
   "execution_count": 10,
   "metadata": {},
   "outputs": [
    {
     "name": "stdout",
     "output_type": "stream",
     "text": [
      "New Delhi is the capital of India.\n",
      "Hindi is the most widely spoken language of India.\n",
      "India is a developing country.\n",
      "Washington, D.C. is the capital of USA.\n",
      "English is the primary language of USA.\n",
      "USA is a developed country.\n"
     ]
    }
   ],
   "source": [
    "# Example polymorphism with class methods:\n",
    "class India():\n",
    "\n",
    "    def capital(self):\n",
    "        print(\"New Delhi is the capital of India.\")\n",
    "\n",
    "    def language(self):\n",
    "        print(\"Hindi is the most widely spoken language of India.\")\n",
    "\n",
    "    def type(self):\n",
    "        print(\"India is a developing country.\")\n",
    "\n",
    "\n",
    "class USA():\n",
    "\n",
    "    def capital(self):\n",
    "        print(\"Washington, D.C. is the capital of USA.\")\n",
    "\n",
    "    def language(self):\n",
    "        print(\"English is the primary language of USA.\")\n",
    "\n",
    "    def type(self):\n",
    "        print(\"USA is a developed country.\")\n",
    "\n",
    "\n",
    "obj_ind = India()\n",
    "obj_usa = USA()\n",
    "\n",
    "for country in (obj_ind, obj_usa):\n",
    "    country.capital()\n",
    "    country.language()\n",
    "    country.type()"
   ]
  },
  {
   "cell_type": "code",
   "execution_count": 12,
   "metadata": {},
   "outputs": [
    {
     "name": "stdout",
     "output_type": "stream",
     "text": [
      "22\n"
     ]
    }
   ],
   "source": [
    "class employee1(): #This is a parent class\n",
    "    def __init__(self, name, age, salary): \n",
    "        self.name = name\n",
    "        self.age = age\n",
    "        self.salary = salary\n",
    "        \n",
    "class childemployee(employee1): #This is a child class\n",
    "     def __init__(self, name, age, salary,id):\n",
    "        self.name = name\n",
    "        self.age = age\n",
    "        self.salary = salary\n",
    "        self.id = id\n",
    "\n",
    "emp1 = employee1('harsha',22,1000)\n",
    "\n",
    "print(emp1.age)"
   ]
  },
  {
   "cell_type": "code",
   "execution_count": 13,
   "metadata": {},
   "outputs": [
    {
     "name": "stdout",
     "output_type": "stream",
     "text": [
      "Buddy 9\n"
     ]
    }
   ],
   "source": [
    "# Object Creation\n",
    "class Dog:\n",
    "\n",
    "    def __init__(self, name, age):\n",
    "        self.name = name\n",
    "        self.age = age\n",
    "\n",
    "    def display(self):\n",
    "        print(self.name, self.age)\n",
    "\n",
    "buddy = Dog(\"Buddy\", 9)\n",
    "buddy.display()"
   ]
  },
  {
   "cell_type": "code",
   "execution_count": 14,
   "metadata": {},
   "outputs": [
    {
     "name": "stdout",
     "output_type": "stream",
     "text": [
      "emp_id is 12345\n"
     ]
    }
   ],
   "source": [
    "from abc import ABC,abstractmethod\n",
    "\n",
    "class employee(ABC):\n",
    "\n",
    "    def emp_id(self,id,name,age,salary):    #Abstraction\n",
    "        pass\n",
    "\n",
    "\n",
    "class childemployee1(employee):\n",
    "\n",
    "    def emp_id(self,id):\n",
    "        print(\"emp_id is 12345\")\n",
    "\n",
    "emp1 = childemployee1()\n",
    "\n",
    "emp1.emp_id(id)"
   ]
  },
  {
   "cell_type": "code",
   "execution_count": 15,
   "metadata": {},
   "outputs": [
    {
     "data": {
      "text/plain": [
       "[('Peter', 'Mexico', 25),\n",
       " ('Chandler', 'Manhattan', 32),\n",
       " ('Ali', 'karachi', 35),\n",
       " ('Suraj', 'Delhi', 37)]"
      ]
     },
     "execution_count": 15,
     "metadata": {},
     "output_type": "execute_result"
    }
   ],
   "source": [
    "# Zips methods in python\n",
    "name=(\"Peter\",\"Chandler\",\"Ali\",\"Suraj\")\n",
    "place=(\"Mexico\",\"Manhattan\",\"karachi\",\"Delhi\")\n",
    "age=(25,32,35,37)\n",
    "x=zip(name,place,age)\n",
    "list(x)"
   ]
  },
  {
   "cell_type": "code",
   "execution_count": 16,
   "metadata": {},
   "outputs": [
    {
     "data": {
      "text/plain": [
       "[('Vijay', 'Chocolates', 50), ('Rani', 'Biscuits', 10), ('George', 'cake', 2)]"
      ]
     },
     "execution_count": 16,
     "metadata": {},
     "output_type": "execute_result"
    }
   ],
   "source": [
    "name=(\"Vijay\",\"Rani\",\"George\",\"Suzy\")\n",
    "items=(\"Chocolates\",\"Biscuits\",\"cake\",\"chips\",\"sandwich\")\n",
    "quantity=(50,10,2)\n",
    "y=zip(name,items,quantity)\n",
    "list(y)"
   ]
  },
  {
   "cell_type": "code",
   "execution_count": 17,
   "metadata": {},
   "outputs": [
    {
     "name": "stdout",
     "output_type": "stream",
     "text": [
      "A is a animal\n",
      "B is also a animal\n",
      "Blu is 10 years old\n",
      "Woo is 15 years old\n"
     ]
    }
   ],
   "source": [
    "class Dog:\n",
    " \n",
    "    # class attribute\n",
    "    species = \"animal\"\n",
    " \n",
    "    # instance attribute\n",
    "    def __init__(self, name, age):\n",
    "        self.name = name\n",
    "        self.age = age\n",
    " \n",
    "# instantiate the Dog class i.e create objects\n",
    "A = Dog(\"Blu\", 10)\n",
    "B = Dog(\"Woo\", 15)\n",
    " \n",
    "# access the class attributes\n",
    "print(\"A is a {}\".format(A.__class__.species))\n",
    "print(\"B is also a {}\".format(B.__class__.species))\n",
    " \n",
    "# access the instance attributes\n",
    "print(\"{} is {} years old\".format( A.name, A.age))\n",
    "print(\"{} is {} years old\".format( B.name, B.age))"
   ]
  },
  {
   "cell_type": "code",
   "execution_count": 18,
   "metadata": {},
   "outputs": [
    {
     "name": "stdout",
     "output_type": "stream",
     "text": [
      "Jim is 12 years old\n",
      "Jim runs slowly\n"
     ]
    }
   ],
   "source": [
    "# Base class\n",
    "class Dog:\n",
    " \n",
    "    # Class attribute\n",
    "    species = 'mammal'\n",
    " \n",
    "    # Instance attributes\n",
    "    def __init__(self, name, age):\n",
    "        self.name = name\n",
    "        self.age = age\n",
    " \n",
    "    # instance method\n",
    "    def description(self):\n",
    "        return \"{} is {} years old\".format(self.name, self.age)\n",
    " \n",
    "    # instance method\n",
    "    def speak(self, sound):\n",
    "        return \"{} says {}\".format(self.name, sound)\n",
    " \n",
    " \n",
    "# Derived class (inherits from Dog class)\n",
    "class Bulldog(Dog):\n",
    "    def run(self, speed):\n",
    "        return \"{} runs {}\".format(self.name, speed)\n",
    " \n",
    " \n",
    "# Derived class inherits attributes and\n",
    "# behavior from the parent class\n",
    "Jim = Bulldog(\"Jim\", 12)\n",
    "print(Jim.description())\n",
    " \n",
    "# Derived class has specific attributes\n",
    "# and behavior as well\n",
    "print(Jim.run(\"slowly\"))"
   ]
  },
  {
   "cell_type": "code",
   "execution_count": 19,
   "metadata": {},
   "outputs": [
    {
     "name": "stdout",
     "output_type": "stream",
     "text": [
      "Drawing a rectangle.\n",
      "Drawing a Triangle.\n"
     ]
    }
   ],
   "source": [
    "class Rectangle:\n",
    " \n",
    "    def draw(self):\n",
    "        print(\"Drawing a rectangle.\")\n",
    "     \n",
    "     \n",
    "class Triangle:\n",
    " \n",
    "    def draw(self):\n",
    "        print(\"Drawing a Triangle.\")\n",
    "     \n",
    "     \n",
    " \n",
    "# common interface\n",
    "def draw_shape(Shape):\n",
    "    Shape.draw()\n",
    " \n",
    "#instantiate objects\n",
    "A = Rectangle()\n",
    "B = Triangle()\n",
    " \n",
    "# passing the object\n",
    "draw_shape(A)\n",
    "draw_shape(B)"
   ]
  },
  {
   "cell_type": "code",
   "execution_count": 20,
   "metadata": {},
   "outputs": [
    {
     "name": "stdout",
     "output_type": "stream",
     "text": [
      "Hello my name is Rahul\n",
      "Hello my name is Rahul\n"
     ]
    }
   ],
   "source": [
    "class Employee:\n",
    "   def display(self):\n",
    "       print(\"Hello my name is Rahul\")\n",
    "emp_obj1 = Employee()\n",
    "emp_obj1.display()\n",
    "emp_obj2 = Employee()\n",
    "emp_obj2.display()"
   ]
  },
  {
   "cell_type": "code",
   "execution_count": 21,
   "metadata": {},
   "outputs": [
    {
     "name": "stdout",
     "output_type": "stream",
     "text": [
      "constructor\n",
      "constructor\n"
     ]
    }
   ],
   "source": [
    "class Employee:\n",
    "   def __init__ (self):\n",
    "       print(\"constructor\")\n",
    "emp = Employee()\n",
    "emp.__init__()"
   ]
  },
  {
   "cell_type": "code",
   "execution_count": 22,
   "metadata": {},
   "outputs": [
    {
     "name": "stdout",
     "output_type": "stream",
     "text": [
      "Employee: Harry 12000 ABC Company\n",
      "Employee: Emma 10000 ABC Company\n"
     ]
    }
   ],
   "source": [
    "class Employee:\n",
    "    # class variables\n",
    "    company_name = 'ABC Company'\n",
    "\n",
    "    # constructor to initialize the object\n",
    "    def __init__(self, name, salary):\n",
    "        # instance variables\n",
    "        self.name = name\n",
    "        self.salary = salary\n",
    "\n",
    "    # instance method\n",
    "    def show(self):\n",
    "        print('Employee:', self.name, self.salary, self.company_name)\n",
    "\n",
    "# create first object\n",
    "emp1 = Employee(\"Harry\", 12000)\n",
    "emp1.show()\n",
    "\n",
    "# create second object\n",
    "emp2 = Employee(\"Emma\", 10000)\n",
    "emp2.show()"
   ]
  },
  {
   "cell_type": "code",
   "execution_count": 25,
   "metadata": {},
   "outputs": [
    {
     "name": "stdout",
     "output_type": "stream",
     "text": [
      "Name is  Jessa and salary is 40000\n"
     ]
    },
    {
     "ename": "AttributeError",
     "evalue": "'Employee' object has no attribute '_salary'",
     "output_type": "error",
     "traceback": [
      "\u001b[1;31m---------------------------------------------------------------------------\u001b[0m",
      "\u001b[1;31mAttributeError\u001b[0m                            Traceback (most recent call last)",
      "\u001b[1;32m<ipython-input-25-5dc325343a61>\u001b[0m in \u001b[0;36m<module>\u001b[1;34m\u001b[0m\n\u001b[0;32m     14\u001b[0m \u001b[1;33m\u001b[0m\u001b[0m\n\u001b[0;32m     15\u001b[0m \u001b[1;31m# access salary from outside of a class\u001b[0m\u001b[1;33m\u001b[0m\u001b[1;33m\u001b[0m\u001b[1;33m\u001b[0m\u001b[0m\n\u001b[1;32m---> 16\u001b[1;33m \u001b[0mprint\u001b[0m\u001b[1;33m(\u001b[0m\u001b[0memp\u001b[0m\u001b[1;33m.\u001b[0m\u001b[0m_salary\u001b[0m\u001b[1;33m)\u001b[0m\u001b[1;33m\u001b[0m\u001b[1;33m\u001b[0m\u001b[0m\n\u001b[0m",
      "\u001b[1;31mAttributeError\u001b[0m: 'Employee' object has no attribute '_salary'"
     ]
    }
   ],
   "source": [
    "class Employee:\n",
    "    def __init__(self, name, salary):\n",
    "        # public member\n",
    "        self.name = name\n",
    "        # private member\n",
    "        # not accessible outside of a class\n",
    "        self.__salary = salary\n",
    "\n",
    "    def show(self):\n",
    "        print(\"Name is \", self.name, \"and salary is\", self.__salary)\n",
    "\n",
    "emp = Employee(\"Jessa\", 40000)\n",
    "emp.show()\n",
    "\n",
    "# access salary from outside of a class\n",
    "print(emp._salary)"
   ]
  },
  {
   "cell_type": "code",
   "execution_count": 26,
   "metadata": {},
   "outputs": [
    {
     "name": "stdout",
     "output_type": "stream",
     "text": [
      "Area of circle : 78.5\n",
      "Area of Rectangle : 50\n"
     ]
    }
   ],
   "source": [
    "class Circle:\n",
    "    pi = 3.14\n",
    "\n",
    "    def __init__(self, redius):\n",
    "        self.radius = redius\n",
    "\n",
    "    def calculate_area(self):\n",
    "        print(\"Area of circle :\", self.pi * self.radius * self.radius)\n",
    "\n",
    "class Rectangle:\n",
    "    def __init__(self, length, width):\n",
    "        self.length = length\n",
    "        self.width = width\n",
    "\n",
    "    def calculate_area(self):\n",
    "        print(\"Area of Rectangle :\", self.length * self.width)\n",
    "\n",
    "# function\n",
    "def area(shape):\n",
    "    # call action\n",
    "    shape.calculate_area()\n",
    "\n",
    "# create object\n",
    "cir = Circle(5)\n",
    "rect = Rectangle(10, 5)\n",
    "\n",
    "# call common function\n",
    "area(cir)\n",
    "area(rect)"
   ]
  },
  {
   "cell_type": "code",
   "execution_count": 27,
   "metadata": {},
   "outputs": [
    {
     "name": "stdout",
     "output_type": "stream",
     "text": [
      "BMW X1 Black 35000\n",
      "BMW X1 change gear to number 5\n"
     ]
    }
   ],
   "source": [
    "# Base class\n",
    "class Vehicle:\n",
    "\n",
    "    def __init__(self, name, color, price):\n",
    "        self.name = name\n",
    "        self.color = color\n",
    "        self.price = price\n",
    "\n",
    "    def info(self):\n",
    "        print(self.name, self.color, self.price)\n",
    "\n",
    "# Child class\n",
    "class Car(Vehicle):\n",
    "\n",
    "    def change_gear(self, no):\n",
    "        print(self.name, 'change gear to number', no)\n",
    "\n",
    "# Create object of Car\n",
    "car = Car('BMW X1', 'Black', 35000)\n",
    "car.info()\n",
    "car.change_gear(5)"
   ]
  },
  {
   "cell_type": "code",
   "execution_count": 28,
   "metadata": {},
   "outputs": [],
   "source": [
    "class Vehicle:\n",
    "    def __init__(self, name, max_speed, mileage):\n",
    "        self.name = name\n",
    "        self.max_speed = max_speed\n",
    "        self.mileage = mileage\n",
    "\n",
    "    def seating_capacity(self, capacity):\n",
    "        return f\"The seating capacity of a {self.name} is {capacity} passengers\""
   ]
  },
  {
   "cell_type": "code",
   "execution_count": null,
   "metadata": {},
   "outputs": [],
   "source": []
  }
 ],
 "metadata": {
  "kernelspec": {
   "display_name": "Python 3",
   "language": "python",
   "name": "python3"
  },
  "language_info": {
   "codemirror_mode": {
    "name": "ipython",
    "version": 3
   },
   "file_extension": ".py",
   "mimetype": "text/x-python",
   "name": "python",
   "nbconvert_exporter": "python",
   "pygments_lexer": "ipython3",
   "version": "3.7.7"
  }
 },
 "nbformat": 4,
 "nbformat_minor": 4
}
